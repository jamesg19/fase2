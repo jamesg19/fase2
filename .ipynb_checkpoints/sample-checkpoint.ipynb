{
 "cells": [
  {
   "cell_type": "markdown",
   "source": [
    "Extraer los datos desde la Base de Datos"
   ],
   "metadata": {
    "collapsed": false
   },
   "id": "b7b9d3cbb3147176"
  },
  {
   "cell_type": "code",
   "execution_count": 6,
   "outputs": [
    {
     "name": "stderr",
     "output_type": "stream",
     "text": [
      "C:\\Users\\james\\AppData\\Local\\Temp\\ipykernel_27160\\4181778973.py:21: UserWarning: pandas only supports SQLAlchemy connectable (engine/connection) or database string URI or sqlite3 DBAPI2 connection. Other DBAPI2 objects are not tested. Please consider using SQLAlchemy.\n",
      "  df = pd.read_sql_query(sql_query, conexion, index_col=None)\n"
     ]
    },
    {
     "name": "stdout",
     "output_type": "stream",
     "text": [
      "            id departamento codigo_departamento               municipio  \\\n",
      "0            1    GUATEMALA                   1  SAN PEDRO SACATEPEQUEZ   \n",
      "1            2    GUATEMALA                   1  SAN PEDRO SACATEPEQUEZ   \n",
      "2            3    GUATEMALA                   1  SAN PEDRO SACATEPEQUEZ   \n",
      "3            4    GUATEMALA                   1  SAN PEDRO SACATEPEQUEZ   \n",
      "4            5    GUATEMALA                   1  SAN PEDRO SACATEPEQUEZ   \n",
      "...        ...          ...                 ...                     ...   \n",
      "123000  123001   SANTA ROSA                   6        SAN JUAN TECUACO   \n",
      "123001  123002   SANTA ROSA                   6        SAN JUAN TECUACO   \n",
      "123002  123003   SANTA ROSA                   6        SAN JUAN TECUACO   \n",
      "123003  123004   SANTA ROSA                   6        SAN JUAN TECUACO   \n",
      "123004  123005   SANTA ROSA                   6        SAN JUAN TECUACO   \n",
      "\n",
      "        codigo_municipio  poblacion       fecha  muertes  id_informe  \n",
      "0                    109      54623    1/1/2021        0           1  \n",
      "1                    109      54623    1/2/2021        0           1  \n",
      "2                    109      54623    1/3/2021        0           1  \n",
      "3                    109      54623    1/4/2021        0           1  \n",
      "4                    109      54623    1/5/2021        0           1  \n",
      "...                  ...        ...         ...      ...         ...  \n",
      "123000               607      12599  12/27/2021        0           1  \n",
      "123001               607      12599  12/28/2021        0           1  \n",
      "123002               607      12599  12/29/2021        0           1  \n",
      "123003               607      12599  12/30/2021        0           1  \n",
      "123004               607      12599  12/31/2021        0           1  \n",
      "\n",
      "[123005 rows x 9 columns]\n"
     ]
    }
   ],
   "source": [
    "import mysql.connector\n",
    "import pandas as pd\n",
    "\n",
    "config = {\n",
    "    'user': 'root',\n",
    "    'password': 'admin',\n",
    "    'port':3306,\n",
    "    'host': 'localhost',  \n",
    "    'database': 'ss2_data',\n",
    "    'raise_on_warnings': False\n",
    "}\n",
    "# Crear una conexión\n",
    "conexion = mysql.connector.connect(**config)\n",
    "\n",
    "# Crear un cursor\n",
    "cursor = conexion.cursor()\n",
    "\n",
    "# Ejemplo de consulta SQL\n",
    "sql_query = \"SELECT * FROM departamento_municipio\"\n",
    "\n",
    "df = pd.read_sql_query(sql_query, conexion, index_col=None)\n",
    "print(df)"
   ],
   "metadata": {
    "collapsed": false,
    "ExecuteTime": {
     "end_time": "2023-12-18T23:50:46.201154900Z",
     "start_time": "2023-12-18T23:50:45.822457600Z"
    }
   },
   "id": "779fda07aef4979a"
  },
  {
   "cell_type": "code",
   "execution_count": null,
   "outputs": [],
   "source": [],
   "metadata": {
    "collapsed": false
   },
   "id": "79ba41cedf88d232"
  },
  {
   "cell_type": "markdown",
   "source": [],
   "metadata": {
    "collapsed": false
   },
   "id": "b8fdb046ffd45818"
  }
 ],
 "metadata": {
  "kernelspec": {
   "display_name": "Python 3",
   "language": "python",
   "name": "python3"
  },
  "language_info": {
   "codemirror_mode": {
    "name": "ipython",
    "version": 2
   },
   "file_extension": ".py",
   "mimetype": "text/x-python",
   "name": "python",
   "nbconvert_exporter": "python",
   "pygments_lexer": "ipython2",
   "version": "2.7.6"
  }
 },
 "nbformat": 4,
 "nbformat_minor": 5
}
