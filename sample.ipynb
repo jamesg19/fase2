{
 "cells": [
  {
   "cell_type": "markdown",
   "source": [
    "Extraer los datos desde la Base de Datos MySQl"
   ],
   "metadata": {
    "collapsed": false
   },
   "id": "b7b9d3cbb3147176"
  },
  {
   "cell_type": "code",
   "execution_count": null,
   "outputs": [],
   "source": [
    "%%sql\n",
    "SELECT * FROM ss2_data.departamento_municipio"
   ],
   "metadata": {
    "collapsed": false,
    "SqlCellData": {
     "data_source_name": "@localhost",
     "variableName$1": "df"
    },
    "ExecuteTime": {
     "end_time": "2023-12-19T00:06:30.084072800Z",
     "start_time": "2023-12-19T00:06:25.809957700Z"
    }
   },
   "id": "c51de2f822e97740"
  },
  {
   "cell_type": "code",
   "execution_count": 12,
   "outputs": [],
   "source": [],
   "metadata": {
    "collapsed": false,
    "ExecuteTime": {
     "end_time": "2023-12-19T00:06:16.625892Z",
     "start_time": "2023-12-19T00:06:16.614886200Z"
    }
   },
   "id": "779fda07aef4979a"
  },
  {
   "cell_type": "markdown",
   "source": [
    "Analisis Mono variable de muertes"
   ],
   "metadata": {
    "collapsed": false
   },
   "id": "c57703866a79fa73"
  },
  {
   "cell_type": "code",
   "execution_count": 12,
   "outputs": [],
   "source": [
    "# Seleccionar la columna de interés\n",
    "columna_nuevas_muertes = df['muertes']\n",
    "estadisticas_descriptivas = columna_nuevas_muertes.describe()"
   ],
   "metadata": {
    "collapsed": false,
    "ExecuteTime": {
     "end_time": "2023-12-19T00:03:32.913925300Z",
     "start_time": "2023-12-19T00:03:32.902350400Z"
    }
   },
   "id": "79ba41cedf88d232"
  },
  {
   "cell_type": "markdown",
   "source": [
    "Realizar Analisis descriptivo"
   ],
   "metadata": {
    "collapsed": false
   },
   "id": "b8fdb046ffd45818"
  },
  {
   "cell_type": "code",
   "execution_count": null,
   "outputs": [],
   "source": [
    "%%sql\n"
   ],
   "metadata": {
    "collapsed": false,
    "SqlCellData": {
     "data_source_name": "@localhost",
     "variableName$1": "df_sql"
    }
   },
   "id": "8ebc0732ae550aac"
  },
  {
   "cell_type": "code",
   "execution_count": null,
   "outputs": [],
   "source": [],
   "metadata": {
    "collapsed": false
   },
   "id": "c707fcd022459cd4"
  },
  {
   "cell_type": "code",
   "execution_count": null,
   "outputs": [],
   "source": [],
   "metadata": {
    "collapsed": false
   },
   "id": "f034fe37bad8a067"
  }
 ],
 "metadata": {
  "kernelspec": {
   "display_name": "Python 3",
   "language": "python",
   "name": "python3"
  },
  "language_info": {
   "codemirror_mode": {
    "name": "ipython",
    "version": 2
   },
   "file_extension": ".py",
   "mimetype": "text/x-python",
   "name": "python",
   "nbconvert_exporter": "python",
   "pygments_lexer": "ipython2",
   "version": "2.7.6"
  }
 },
 "nbformat": 4,
 "nbformat_minor": 5
}
